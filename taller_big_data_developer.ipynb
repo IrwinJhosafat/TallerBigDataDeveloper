{
 "cells": [
  {
   "cell_type": "markdown",
   "metadata": {},
   "source": [
    "Importar las bibliotecas necesarias"
   ]
  },
  {
   "cell_type": "code",
   "execution_count": 1,
   "metadata": {},
   "outputs": [
    {
     "name": "stdout",
     "output_type": "stream",
     "text": [
      "Collecting findspark\n",
      "  Using cached findspark-2.0.1-py2.py3-none-any.whl (4.4 kB)\n",
      "Installing collected packages: findspark\n",
      "Successfully installed findspark-2.0.1\n"
     ]
    }
   ],
   "source": [
    "!pip install findspark"
   ]
  },
  {
   "cell_type": "code",
   "execution_count": 2,
   "metadata": {},
   "outputs": [],
   "source": [
    "import findspark\n",
    "findspark.init()"
   ]
  },
  {
   "cell_type": "markdown",
   "metadata": {},
   "source": [
    "Crear una instancia de SparkSession"
   ]
  },
  {
   "cell_type": "code",
   "execution_count": 3,
   "metadata": {},
   "outputs": [],
   "source": [
    "import pyspark"
   ]
  },
  {
   "cell_type": "code",
   "execution_count": 5,
   "metadata": {},
   "outputs": [],
   "source": [
    "from pyspark.sql import SparkSession"
   ]
  },
  {
   "cell_type": "code",
   "execution_count": 6,
   "metadata": {},
   "outputs": [],
   "source": [
    "spark = SparkSession.builder\\\n",
    "        .master(\"local[*]\")\\\n",
    "        .appName('taller_big_data_developer')\\\n",
    "        .getOrCreate() #devuelve una sesion existente sino existe la crea"
   ]
  },
  {
   "cell_type": "markdown",
   "metadata": {},
   "source": [
    "1. Crear un DataFrame con datos de personas, que incluya nombre, edad y ciudad de residencia."
   ]
  },
  {
   "cell_type": "code",
   "execution_count": 12,
   "metadata": {},
   "outputs": [],
   "source": [
    "from pyspark.sql.types import *"
   ]
  },
  {
   "cell_type": "code",
   "execution_count": 13,
   "metadata": {},
   "outputs": [],
   "source": [
    "data_schema = [\n",
    "               StructField('nombre', StringType(), True),\n",
    "               StructField('edad', IntegerType(), True),\n",
    "               StructField('ciudad', StringType(), True)\n",
    "            ]\n",
    "\n",
    "final_struc = StructType(fields=data_schema)"
   ]
  },
  {
   "cell_type": "code",
   "execution_count": 14,
   "metadata": {},
   "outputs": [],
   "source": [
    "#Leemos un cvs\n",
    "#df = spark.read.option(\"header\", \"true\").csv(\"C:/Users/LTEC-IFLOR-LEASING/Documents/Frio Express/6. Cursos y capacitación/Data Engienner/Big Data Developer/Taller/Dataset_taller.csv\")\n",
    "df = spark.read.csv(\n",
    "    \"C:/Users/LTEC-IFLOR-LEASING/Documents/Frio Express/6. Cursos y capacitación/Data Engienner/Big Data Developer/Taller/Dataset_taller.csv\",\n",
    "    sep = ',',\n",
    "    header = True,\n",
    "    schema = final_struc\n",
    "    )"
   ]
  },
  {
   "cell_type": "code",
   "execution_count": 16,
   "metadata": {},
   "outputs": [
    {
     "name": "stdout",
     "output_type": "stream",
     "text": [
      "root\n",
      " |-- nombre: string (nullable = true)\n",
      " |-- edad: integer (nullable = true)\n",
      " |-- ciudad: string (nullable = true)\n",
      "\n"
     ]
    }
   ],
   "source": [
    "df.printSchema()"
   ]
  },
  {
   "cell_type": "code",
   "execution_count": 17,
   "metadata": {},
   "outputs": [
    {
     "name": "stdout",
     "output_type": "stream",
     "text": [
      "+----------+----+-----------+\n",
      "|    nombre|edad|     ciudad|\n",
      "+----------+----+-----------+\n",
      "|  SANTIAGO|  60|      Tokyo|\n",
      "|     MATEO|  13|    Jakarta|\n",
      "|     SOFIA|  63|      Delhi|\n",
      "| SEBASTIAN|  26|  Guangzhou|\n",
      "|MARIA JOSE|  51|     Mumbai|\n",
      "|  LEONARDO|  15|     Manila|\n",
      "| VALENTINA|  21|   Shanghai|\n",
      "|    REGINA|  25|  Sao Paulo|\n",
      "|    XIMENA|  37|      Seoul|\n",
      "|    MATIAS|  71|Mexico City|\n",
      "+----------+----+-----------+\n",
      "only showing top 10 rows\n",
      "\n"
     ]
    }
   ],
   "source": [
    "df.show(10)"
   ]
  },
  {
   "cell_type": "markdown",
   "metadata": {},
   "source": [
    "2. Mostrar solo los nombres de las personas del DataFrame."
   ]
  },
  {
   "cell_type": "code",
   "execution_count": 18,
   "metadata": {},
   "outputs": [
    {
     "name": "stdout",
     "output_type": "stream",
     "text": [
      "+-----------------+\n",
      "|           nombre|\n",
      "+-----------------+\n",
      "|       JUAN PABLO|\n",
      "|        JUAN JOSE|\n",
      "|             JADE|\n",
      "|       IAN DANIEL|\n",
      "|SANTIAGO DE JESUS|\n",
      "|            AILYN|\n",
      "|     LUIS ROBERTO|\n",
      "|          EMANUEL|\n",
      "|    ZOE VALENTINA|\n",
      "|      JESUS ANGEL|\n",
      "+-----------------+\n",
      "only showing top 10 rows\n",
      "\n"
     ]
    }
   ],
   "source": [
    "df.select('nombre').distinct().show(10)"
   ]
  },
  {
   "cell_type": "markdown",
   "metadata": {},
   "source": [
    "3. Filtrar personas cuya edad sea mayor o igual a 25."
   ]
  },
  {
   "cell_type": "code",
   "execution_count": 19,
   "metadata": {},
   "outputs": [
    {
     "name": "stdout",
     "output_type": "stream",
     "text": [
      "+---------------+----+----------------+\n",
      "|         nombre|edad|          ciudad|\n",
      "+---------------+----+----------------+\n",
      "|       SANTIAGO|  60|           Tokyo|\n",
      "|          SOFIA|  63|           Delhi|\n",
      "|      SEBASTIAN|  26|       Guangzhou|\n",
      "|     MARIA JOSE|  51|          Mumbai|\n",
      "|         REGINA|  25|       Sao Paulo|\n",
      "|         XIMENA|  37|           Seoul|\n",
      "|         MATIAS|  71|     Mexico City|\n",
      "|          DIEGO|  58|           Dhaka|\n",
      "| MARIA FERNANDA|  41|         Beijing|\n",
      "|         DANIEL|  39|         Bangkok|\n",
      "|        VALERIA|  37|        Shenzhen|\n",
      "|       VICTORIA|  29|    Buenos Aires|\n",
      "|      ALEXANDER|  27|           Lagos|\n",
      "|      ALEJANDRO|  43|        Istanbul|\n",
      "|           GAEL|  48|         Karachi|\n",
      "|          JESUS|  61|       Bangalore|\n",
      "|        DANIELA|  54|           Osaka|\n",
      "|       ISABELLA|  49|         Chengdu|\n",
      "|          ANGEL|  50|        Kinshasa|\n",
      "|          DAVID|  26|  Rio de Janeiro|\n",
      "|     LUIS ANGEL|  58|         Chennai|\n",
      "|       FERNANDO|  68|           Xi'an|\n",
      "|MARIA GUADALUPE|  59|       Chongqing|\n",
      "|       FERNANDA|  70|         Baoding|\n",
      "|      JOSE LUIS|  51|          London|\n",
      "|          ALEXA|  26|           Paris|\n",
      "|        RODRIGO|  62|           Linyi|\n",
      "|     JUAN PABLO|  40|           Wuhan|\n",
      "|        GABRIEL|  49|         Nanyang|\n",
      "|       SAMANTHA|  41|        Hangzhou|\n",
      "|          DYLAN|  62|          Foshan|\n",
      "|      GUADALUPE|  69|          Nagoya|\n",
      "|    JUAN CARLOS|  29|          Taipei|\n",
      "|         RAFAEL|  40|         Ganzhou|\n",
      "|    JOSE MANUEL|  31|    Kuala Lumpur|\n",
      "|          ISAAC|  47|            Heze|\n",
      "|      ELIZABETH|  34|         Chicago|\n",
      "|        RICARDO|  47|         Nanjing|\n",
      "|         SAMUEL|  34|          Jining|\n",
      "|           IKER|  39|           Hanoi|\n",
      "|         LEONEL|  32|          Fuyang|\n",
      "|       YAMILETH|  54|        Shenyang|\n",
      "|           ALAN|  33|        Khartoum|\n",
      "|          ELIAS|  31|        Cangzhou|\n",
      "|        NICOLAS|  48|       Hong Kong|\n",
      "|         FATIMA|  53|        Shaoyang|\n",
      "|          EMILY|  31|        Yancheng|\n",
      "|  ANGEL GABRIEL|  53|        Hengyang|\n",
      "|       CRISTIAN|  64|       Zhumadian|\n",
      "|         ADRIAN|  42|        Santiago|\n",
      "|         CARLOS|  55|         Xingtai|\n",
      "|  LUIS FERNANDO|  69|      Chattogram|\n",
      "|         JAVIER|  35|           Zunyi|\n",
      "|          JOSUE|  34|        Surabaya|\n",
      "|   JOSE ANTONIO|  66|       Huanggang|\n",
      "|    JOSE MIGUEL|  48|        Nanchong|\n",
      "|      ESMERALDA|  26|         Xinyang|\n",
      "|        VANESSA|  30|          Madrid|\n",
      "|         MIGUEL|  70|         Baghdad|\n",
      "|         EVELYN|  30|          Qujing|\n",
      "|          URIEL|  36|         Jieyang|\n",
      "|      ESTEFANIA|  30|       Singapore|\n",
      "|          AARON|  46|       Prayagraj|\n",
      "|         JIMENA|  65|       Liaocheng|\n",
      "|         ANDRES|  30|           Yulin|\n",
      "|      ANA PAULA|  51|         Changde|\n",
      "|     JUAN DIEGO|  37|         Qingdao|\n",
      "|         JULIAN|  43|          Douala|\n",
      "|         MANUEL|  55|           Miami|\n",
      "|         BRAYAN|  28|       Nangandao|\n",
      "|          PEDRO|  41|          Pudong|\n",
      "|        ALONDRA|  64|       Xiangyang|\n",
      "|        LUCIANA|  32|          Dallas|\n",
      "|          KEVIN|  45|         Houston|\n",
      "|        GERARDO|  30|           Lu'an|\n",
      "|        MIRANDA|  38|          Dezhou|\n",
      "|         ISMAEL|  53|           Jinan|\n",
      "|           IVAN|  32|            Giza|\n",
      "|        ROBERTO|  45|        Zhaotong|\n",
      "|     JOSE MARIA|  36|          Yichun|\n",
      "|      JUAN JOSE|  50|         Nairobi|\n",
      "|          MARIA|  45|     Guadalajara|\n",
      "|    DULCE MARIA|  67|    Philadelphia|\n",
      "|           LIAM|  32|          Ankara|\n",
      "|          ERICK|  51|          Tai'an|\n",
      "|           JOSE|  65|          Dazhou|\n",
      "|  MARCO ANTONIO|  32|Saint Petersburg|\n",
      "|       CAROLINA|  39|         Qiqihar|\n",
      "|      MONSERRAT|  58|       Monterrey|\n",
      "|  CARLOS DANIEL|  46|  Belo Horizonte|\n",
      "|    DANNA SOFIA|  38|          Weinan|\n",
      "|         IVANNA|  43|       Zhangzhou|\n",
      "|         ISRAEL|  34|        Yuncheng|\n",
      "|SOFIA GUADALUPE|  53|         Atlanta|\n",
      "|         OLIVER|  66|          Bozhou|\n",
      "|           SAUL|  41|         Abidjan|\n",
      "|        PAULINA|  40|         Huaihua|\n",
      "|          ABRIL|  41|     Xiaoganzhan|\n",
      "|           OMAR|  42|    Pingdingshan|\n",
      "|          BRUNO|  55|      Alexandria|\n",
      "+---------------+----+----------------+\n",
      "only showing top 100 rows\n",
      "\n"
     ]
    }
   ],
   "source": [
    "from pyspark.sql.functions import when\n",
    "df.filter(df.edad >= '25').show(100)"
   ]
  },
  {
   "cell_type": "markdown",
   "metadata": {},
   "source": [
    "4. Agregar una nueva columna \"Pais\" con un valor constante para todas las filas."
   ]
  },
  {
   "cell_type": "code",
   "execution_count": 21,
   "metadata": {},
   "outputs": [],
   "source": [
    "from pyspark.sql.functions import lit"
   ]
  },
  {
   "cell_type": "code",
   "execution_count": 23,
   "metadata": {},
   "outputs": [
    {
     "name": "stdout",
     "output_type": "stream",
     "text": [
      "+---------------+----+----------------+------+\n",
      "|         nombre|edad|          ciudad|  Pais|\n",
      "+---------------+----+----------------+------+\n",
      "|       SANTIAGO|  60|           Tokyo|Mexico|\n",
      "|          MATEO|  13|         Jakarta|Mexico|\n",
      "|          SOFIA|  63|           Delhi|Mexico|\n",
      "|      SEBASTIAN|  26|       Guangzhou|Mexico|\n",
      "|     MARIA JOSE|  51|          Mumbai|Mexico|\n",
      "|       LEONARDO|  15|          Manila|Mexico|\n",
      "|      VALENTINA|  21|        Shanghai|Mexico|\n",
      "|         REGINA|  25|       Sao Paulo|Mexico|\n",
      "|         XIMENA|  37|           Seoul|Mexico|\n",
      "|         MATIAS|  71|     Mexico City|Mexico|\n",
      "|         CAMILA|   4|           Cairo|Mexico|\n",
      "|       EMILIANO|   4|        New York|Mexico|\n",
      "|          DIEGO|  58|           Dhaka|Mexico|\n",
      "| MARIA FERNANDA|  41|         Beijing|Mexico|\n",
      "|   MIGUEL ANGEL|  18|         Kolkata|Mexico|\n",
      "|         DANIEL|  39|         Bangkok|Mexico|\n",
      "|        VALERIA|  37|        Shenzhen|Mexico|\n",
      "|         RENATA|  23|          Moscow|Mexico|\n",
      "|       VICTORIA|  29|    Buenos Aires|Mexico|\n",
      "|      ALEXANDER|  27|           Lagos|Mexico|\n",
      "|      ALEJANDRO|  43|        Istanbul|Mexico|\n",
      "|           GAEL|  48|         Karachi|Mexico|\n",
      "|          JESUS|  61|       Bangalore|Mexico|\n",
      "|        NATALIA|   4|Ho Chi Minh City|Mexico|\n",
      "|        DANIELA|  54|           Osaka|Mexico|\n",
      "|       ISABELLA|  49|         Chengdu|Mexico|\n",
      "|         ROMINA|   4|          Tehran|Mexico|\n",
      "|          ANGEL|  50|        Kinshasa|Mexico|\n",
      "|          DAVID|  26|  Rio de Janeiro|Mexico|\n",
      "|     LUIS ANGEL|  58|         Chennai|Mexico|\n",
      "|       FERNANDO|  68|           Xi'an|Mexico|\n",
      "|       EMMANUEL|  20|          Lahore|Mexico|\n",
      "|MARIA GUADALUPE|  59|       Chongqing|Mexico|\n",
      "|    MAXIMILIANO|  21|     Los Angeles|Mexico|\n",
      "|       FERNANDA|  70|         Baoding|Mexico|\n",
      "|      JOSE LUIS|  51|          London|Mexico|\n",
      "|          ALEXA|  26|           Paris|Mexico|\n",
      "|        RODRIGO|  62|           Linyi|Mexico|\n",
      "|      ANA SOFIA|   3|        Dongguan|Mexico|\n",
      "|         ANDREA|  16|       Hyderabad|Mexico|\n",
      "|        EDUARDO|  18|         Tianjin|Mexico|\n",
      "|     JOSE ANGEL|   8|            Lima|Mexico|\n",
      "|     JUAN PABLO|  40|           Wuhan|Mexico|\n",
      "|        GABRIEL|  49|         Nanyang|Mexico|\n",
      "|       SAMANTHA|  41|        Hangzhou|Mexico|\n",
      "|          DYLAN|  62|          Foshan|Mexico|\n",
      "|      GUADALUPE|  69|          Nagoya|Mexico|\n",
      "|    JUAN CARLOS|  29|          Taipei|Mexico|\n",
      "|          TADEO|  22|        Tongshan|Mexico|\n",
      "|        MELISSA|  15|          Luanda|Mexico|\n",
      "|           AXEL|  20|         Zhoukou|Mexico|\n",
      "|         RAFAEL|  40|         Ganzhou|Mexico|\n",
      "|    JOSE MANUEL|  31|    Kuala Lumpur|Mexico|\n",
      "|          ISAAC|  47|            Heze|Mexico|\n",
      "|         ALEXIS|  24|        Quanzhou|Mexico|\n",
      "|      ELIZABETH|  34|         Chicago|Mexico|\n",
      "|        RICARDO|  47|         Nanjing|Mexico|\n",
      "|         SAMUEL|  34|          Jining|Mexico|\n",
      "|           IKER|  39|           Hanoi|Mexico|\n",
      "|       JONATHAN|   9|            Pune|Mexico|\n",
      "|         LEONEL|  32|          Fuyang|Mexico|\n",
      "|        MARIANA|  19|       Ahmedabad|Mexico|\n",
      "|         AITANA|  18|    Johannesburg|Mexico|\n",
      "|         DAMIAN|  18|          Bogota|Mexico|\n",
      "|         EMILIO|   8|   Dar es Salaam|Mexico|\n",
      "|       YAMILETH|  54|        Shenyang|Mexico|\n",
      "|           ALAN|  33|        Khartoum|Mexico|\n",
      "|      FRANCISCO|  11|        Shangqiu|Mexico|\n",
      "|          ELIAS|  31|        Cangzhou|Mexico|\n",
      "|        NICOLAS|  48|       Hong Kong|Mexico|\n",
      "|         FATIMA|  53|        Shaoyang|Mexico|\n",
      "|       MAURICIO|   3|       Zhanjiang|Mexico|\n",
      "|          EMILY|  31|        Yancheng|Mexico|\n",
      "|  ANGEL GABRIEL|  53|        Hengyang|Mexico|\n",
      "|   ANA VICTORIA|   4|          Riyadh|Mexico|\n",
      "|       CRISTIAN|  64|       Zhumadian|Mexico|\n",
      "|         ADRIAN|  42|        Santiago|Mexico|\n",
      "|         CARLOS|  55|         Xingtai|Mexico|\n",
      "|  LUIS FERNANDO|  69|      Chattogram|Mexico|\n",
      "|        ABIGAIL|  17|           Bijie|Mexico|\n",
      "|        ANTONIO|  10|        Shangrao|Mexico|\n",
      "|         JAVIER|  35|           Zunyi|Mexico|\n",
      "|      ALEJANDRA|   9|           Surat|Mexico|\n",
      "|          JOSUE|  34|        Surabaya|Mexico|\n",
      "|   JOSE ANTONIO|  66|       Huanggang|Mexico|\n",
      "|        JULIETA|  15|         Maoming|Mexico|\n",
      "|    JOSE MIGUEL|  48|        Nanchong|Mexico|\n",
      "|      ESMERALDA|  26|         Xinyang|Mexico|\n",
      "|        VANESSA|  30|          Madrid|Mexico|\n",
      "|         MIGUEL|  70|         Baghdad|Mexico|\n",
      "|         EVELYN|  30|          Qujing|Mexico|\n",
      "|          URIEL|  36|         Jieyang|Mexico|\n",
      "|      ESTEFANIA|  30|       Singapore|Mexico|\n",
      "|          AARON|  46|       Prayagraj|Mexico|\n",
      "|         JIMENA|  65|       Liaocheng|Mexico|\n",
      "|           JUAN|   9|          Dalian|Mexico|\n",
      "|         ANDRES|  30|           Yulin|Mexico|\n",
      "|      ANA PAULA|  51|         Changde|Mexico|\n",
      "|     JUAN DIEGO|  37|         Qingdao|Mexico|\n",
      "|         JULIAN|  43|          Douala|Mexico|\n",
      "+---------------+----+----------------+------+\n",
      "only showing top 100 rows\n",
      "\n"
     ]
    }
   ],
   "source": [
    "df.withColumn('Pais',lit('Mexico')).show(100)"
   ]
  },
  {
   "cell_type": "markdown",
   "metadata": {},
   "source": [
    "5. Calcular el promedio de edad de todas las personas."
   ]
  },
  {
   "cell_type": "code",
   "execution_count": 37,
   "metadata": {},
   "outputs": [
    {
     "name": "stdout",
     "output_type": "stream",
     "text": [
      "+-----------------+\n",
      "|        avg(edad)|\n",
      "+-----------------+\n",
      "|36.54349627174813|\n",
      "+-----------------+\n",
      "\n"
     ]
    }
   ],
   "source": [
    "df.agg({'edad':'avg'}).show()"
   ]
  },
  {
   "cell_type": "markdown",
   "metadata": {},
   "source": [
    "6. Ordenar el DataFrame por edad en orden descendente."
   ]
  },
  {
   "cell_type": "code",
   "execution_count": 39,
   "metadata": {},
   "outputs": [
    {
     "name": "stdout",
     "output_type": "stream",
     "text": [
      "+----------------+----+-----------------+\n",
      "|          nombre|edad|           ciudad|\n",
      "+----------------+----+-----------------+\n",
      "|         MARCELA|  72|             Lome|\n",
      "|            MILA|  72|        Jalandhar|\n",
      "|DAMIAN ALEJANDRO|  72|     Port Moresby|\n",
      "|     JESUS MATEO|  72|          Huludao|\n",
      "|     JOSE ARTURO|  72|King Edward Point|\n",
      "+----------------+----+-----------------+\n",
      "only showing top 5 rows\n",
      "\n"
     ]
    }
   ],
   "source": [
    "from pyspark.sql.functions import *\n",
    "# Sort the data in descending order.\n",
    "df.sort(desc(\"edad\")).show(5)"
   ]
  },
  {
   "cell_type": "markdown",
   "metadata": {},
   "source": [
    "7. Agrupar por ciudad y calcular la cantidad de personas en cada ciudad."
   ]
  },
  {
   "cell_type": "code",
   "execution_count": 40,
   "metadata": {},
   "outputs": [
    {
     "name": "stdout",
     "output_type": "stream",
     "text": [
      "+------------+------------------+\n",
      "|      ciudad|personas_en_ciudad|\n",
      "+------------+------------------+\n",
      "|   Bangalore|                 1|\n",
      "|       Benxi|                 1|\n",
      "|   Volgograd|                 1|\n",
      "|     Morelia|                 1|\n",
      "|   Kisangani|                 1|\n",
      "|Thessaloniki|                 1|\n",
      "|     Palermo|                 1|\n",
      "|     Edogawa|                 1|\n",
      "|      Linfen|                 1|\n",
      "|    Cawnpore|                 1|\n",
      "|   Tangerang|                 1|\n",
      "|      Shiraz|                 1|\n",
      "|    Voronezh|                 1|\n",
      "|     Thu Duc|                 1|\n",
      "|    Chisinau|                 1|\n",
      "|     El Alto|                 1|\n",
      "|    Jaboatao|                 1|\n",
      "|       Cairo|                 1|\n",
      "|  Casablanca|                 1|\n",
      "| Zhangjiakou|                 1|\n",
      "+------------+------------------+\n",
      "only showing top 20 rows\n",
      "\n"
     ]
    }
   ],
   "source": [
    "(df.groupBy(\"ciudad\")\n",
    "    .agg(\n",
    "        count(\"nombre\").alias(\"personas_en_ciudad\")\n",
    "        ).show()\n",
    ")"
   ]
  },
  {
   "cell_type": "markdown",
   "metadata": {},
   "source": [
    "8. Renombrar la columna \"Nombre\" a \"NombreCompleto\"."
   ]
  },
  {
   "cell_type": "code",
   "execution_count": 41,
   "metadata": {},
   "outputs": [
    {
     "name": "stdout",
     "output_type": "stream",
     "text": [
      "+---------------+----+----------------+\n",
      "|Nombre Completo|edad|          ciudad|\n",
      "+---------------+----+----------------+\n",
      "|       SANTIAGO|  60|           Tokyo|\n",
      "|          MATEO|  13|         Jakarta|\n",
      "|          SOFIA|  63|           Delhi|\n",
      "|      SEBASTIAN|  26|       Guangzhou|\n",
      "|     MARIA JOSE|  51|          Mumbai|\n",
      "|       LEONARDO|  15|          Manila|\n",
      "|      VALENTINA|  21|        Shanghai|\n",
      "|         REGINA|  25|       Sao Paulo|\n",
      "|         XIMENA|  37|           Seoul|\n",
      "|         MATIAS|  71|     Mexico City|\n",
      "|         CAMILA|   4|           Cairo|\n",
      "|       EMILIANO|   4|        New York|\n",
      "|          DIEGO|  58|           Dhaka|\n",
      "| MARIA FERNANDA|  41|         Beijing|\n",
      "|   MIGUEL ANGEL|  18|         Kolkata|\n",
      "|         DANIEL|  39|         Bangkok|\n",
      "|        VALERIA|  37|        Shenzhen|\n",
      "|         RENATA|  23|          Moscow|\n",
      "|       VICTORIA|  29|    Buenos Aires|\n",
      "|      ALEXANDER|  27|           Lagos|\n",
      "|      ALEJANDRO|  43|        Istanbul|\n",
      "|           GAEL|  48|         Karachi|\n",
      "|          JESUS|  61|       Bangalore|\n",
      "|        NATALIA|   4|Ho Chi Minh City|\n",
      "|        DANIELA|  54|           Osaka|\n",
      "|       ISABELLA|  49|         Chengdu|\n",
      "|         ROMINA|   4|          Tehran|\n",
      "|          ANGEL|  50|        Kinshasa|\n",
      "|          DAVID|  26|  Rio de Janeiro|\n",
      "|     LUIS ANGEL|  58|         Chennai|\n",
      "|       FERNANDO|  68|           Xi'an|\n",
      "|       EMMANUEL|  20|          Lahore|\n",
      "|MARIA GUADALUPE|  59|       Chongqing|\n",
      "|    MAXIMILIANO|  21|     Los Angeles|\n",
      "|       FERNANDA|  70|         Baoding|\n",
      "|      JOSE LUIS|  51|          London|\n",
      "|          ALEXA|  26|           Paris|\n",
      "|        RODRIGO|  62|           Linyi|\n",
      "|      ANA SOFIA|   3|        Dongguan|\n",
      "|         ANDREA|  16|       Hyderabad|\n",
      "|        EDUARDO|  18|         Tianjin|\n",
      "|     JOSE ANGEL|   8|            Lima|\n",
      "|     JUAN PABLO|  40|           Wuhan|\n",
      "|        GABRIEL|  49|         Nanyang|\n",
      "|       SAMANTHA|  41|        Hangzhou|\n",
      "|          DYLAN|  62|          Foshan|\n",
      "|      GUADALUPE|  69|          Nagoya|\n",
      "|    JUAN CARLOS|  29|          Taipei|\n",
      "|          TADEO|  22|        Tongshan|\n",
      "|        MELISSA|  15|          Luanda|\n",
      "|           AXEL|  20|         Zhoukou|\n",
      "|         RAFAEL|  40|         Ganzhou|\n",
      "|    JOSE MANUEL|  31|    Kuala Lumpur|\n",
      "|          ISAAC|  47|            Heze|\n",
      "|         ALEXIS|  24|        Quanzhou|\n",
      "|      ELIZABETH|  34|         Chicago|\n",
      "|        RICARDO|  47|         Nanjing|\n",
      "|         SAMUEL|  34|          Jining|\n",
      "|           IKER|  39|           Hanoi|\n",
      "|       JONATHAN|   9|            Pune|\n",
      "|         LEONEL|  32|          Fuyang|\n",
      "|        MARIANA|  19|       Ahmedabad|\n",
      "|         AITANA|  18|    Johannesburg|\n",
      "|         DAMIAN|  18|          Bogota|\n",
      "|         EMILIO|   8|   Dar es Salaam|\n",
      "|       YAMILETH|  54|        Shenyang|\n",
      "|           ALAN|  33|        Khartoum|\n",
      "|      FRANCISCO|  11|        Shangqiu|\n",
      "|          ELIAS|  31|        Cangzhou|\n",
      "|        NICOLAS|  48|       Hong Kong|\n",
      "|         FATIMA|  53|        Shaoyang|\n",
      "|       MAURICIO|   3|       Zhanjiang|\n",
      "|          EMILY|  31|        Yancheng|\n",
      "|  ANGEL GABRIEL|  53|        Hengyang|\n",
      "|   ANA VICTORIA|   4|          Riyadh|\n",
      "|       CRISTIAN|  64|       Zhumadian|\n",
      "|         ADRIAN|  42|        Santiago|\n",
      "|         CARLOS|  55|         Xingtai|\n",
      "|  LUIS FERNANDO|  69|      Chattogram|\n",
      "|        ABIGAIL|  17|           Bijie|\n",
      "|        ANTONIO|  10|        Shangrao|\n",
      "|         JAVIER|  35|           Zunyi|\n",
      "|      ALEJANDRA|   9|           Surat|\n",
      "|          JOSUE|  34|        Surabaya|\n",
      "|   JOSE ANTONIO|  66|       Huanggang|\n",
      "|        JULIETA|  15|         Maoming|\n",
      "|    JOSE MIGUEL|  48|        Nanchong|\n",
      "|      ESMERALDA|  26|         Xinyang|\n",
      "|        VANESSA|  30|          Madrid|\n",
      "|         MIGUEL|  70|         Baghdad|\n",
      "|         EVELYN|  30|          Qujing|\n",
      "|          URIEL|  36|         Jieyang|\n",
      "|      ESTEFANIA|  30|       Singapore|\n",
      "|          AARON|  46|       Prayagraj|\n",
      "|         JIMENA|  65|       Liaocheng|\n",
      "|           JUAN|   9|          Dalian|\n",
      "|         ANDRES|  30|           Yulin|\n",
      "|      ANA PAULA|  51|         Changde|\n",
      "|     JUAN DIEGO|  37|         Qingdao|\n",
      "|         JULIAN|  43|          Douala|\n",
      "+---------------+----+----------------+\n",
      "only showing top 100 rows\n",
      "\n"
     ]
    }
   ],
   "source": [
    "df.withColumnRenamed('nombre', 'Nombre Completo').show(100)"
   ]
  },
  {
   "cell_type": "markdown",
   "metadata": {},
   "source": [
    "9. Eliminar la columna \"Edad\" del DataFrame."
   ]
  },
  {
   "cell_type": "code",
   "execution_count": 42,
   "metadata": {},
   "outputs": [
    {
     "name": "stdout",
     "output_type": "stream",
     "text": [
      "+---------------+----------------+\n",
      "|         nombre|          ciudad|\n",
      "+---------------+----------------+\n",
      "|       SANTIAGO|           Tokyo|\n",
      "|          MATEO|         Jakarta|\n",
      "|          SOFIA|           Delhi|\n",
      "|      SEBASTIAN|       Guangzhou|\n",
      "|     MARIA JOSE|          Mumbai|\n",
      "|       LEONARDO|          Manila|\n",
      "|      VALENTINA|        Shanghai|\n",
      "|         REGINA|       Sao Paulo|\n",
      "|         XIMENA|           Seoul|\n",
      "|         MATIAS|     Mexico City|\n",
      "|         CAMILA|           Cairo|\n",
      "|       EMILIANO|        New York|\n",
      "|          DIEGO|           Dhaka|\n",
      "| MARIA FERNANDA|         Beijing|\n",
      "|   MIGUEL ANGEL|         Kolkata|\n",
      "|         DANIEL|         Bangkok|\n",
      "|        VALERIA|        Shenzhen|\n",
      "|         RENATA|          Moscow|\n",
      "|       VICTORIA|    Buenos Aires|\n",
      "|      ALEXANDER|           Lagos|\n",
      "|      ALEJANDRO|        Istanbul|\n",
      "|           GAEL|         Karachi|\n",
      "|          JESUS|       Bangalore|\n",
      "|        NATALIA|Ho Chi Minh City|\n",
      "|        DANIELA|           Osaka|\n",
      "|       ISABELLA|         Chengdu|\n",
      "|         ROMINA|          Tehran|\n",
      "|          ANGEL|        Kinshasa|\n",
      "|          DAVID|  Rio de Janeiro|\n",
      "|     LUIS ANGEL|         Chennai|\n",
      "|       FERNANDO|           Xi'an|\n",
      "|       EMMANUEL|          Lahore|\n",
      "|MARIA GUADALUPE|       Chongqing|\n",
      "|    MAXIMILIANO|     Los Angeles|\n",
      "|       FERNANDA|         Baoding|\n",
      "|      JOSE LUIS|          London|\n",
      "|          ALEXA|           Paris|\n",
      "|        RODRIGO|           Linyi|\n",
      "|      ANA SOFIA|        Dongguan|\n",
      "|         ANDREA|       Hyderabad|\n",
      "|        EDUARDO|         Tianjin|\n",
      "|     JOSE ANGEL|            Lima|\n",
      "|     JUAN PABLO|           Wuhan|\n",
      "|        GABRIEL|         Nanyang|\n",
      "|       SAMANTHA|        Hangzhou|\n",
      "|          DYLAN|          Foshan|\n",
      "|      GUADALUPE|          Nagoya|\n",
      "|    JUAN CARLOS|          Taipei|\n",
      "|          TADEO|        Tongshan|\n",
      "|        MELISSA|          Luanda|\n",
      "|           AXEL|         Zhoukou|\n",
      "|         RAFAEL|         Ganzhou|\n",
      "|    JOSE MANUEL|    Kuala Lumpur|\n",
      "|          ISAAC|            Heze|\n",
      "|         ALEXIS|        Quanzhou|\n",
      "|      ELIZABETH|         Chicago|\n",
      "|        RICARDO|         Nanjing|\n",
      "|         SAMUEL|          Jining|\n",
      "|           IKER|           Hanoi|\n",
      "|       JONATHAN|            Pune|\n",
      "|         LEONEL|          Fuyang|\n",
      "|        MARIANA|       Ahmedabad|\n",
      "|         AITANA|    Johannesburg|\n",
      "|         DAMIAN|          Bogota|\n",
      "|         EMILIO|   Dar es Salaam|\n",
      "|       YAMILETH|        Shenyang|\n",
      "|           ALAN|        Khartoum|\n",
      "|      FRANCISCO|        Shangqiu|\n",
      "|          ELIAS|        Cangzhou|\n",
      "|        NICOLAS|       Hong Kong|\n",
      "|         FATIMA|        Shaoyang|\n",
      "|       MAURICIO|       Zhanjiang|\n",
      "|          EMILY|        Yancheng|\n",
      "|  ANGEL GABRIEL|        Hengyang|\n",
      "|   ANA VICTORIA|          Riyadh|\n",
      "|       CRISTIAN|       Zhumadian|\n",
      "|         ADRIAN|        Santiago|\n",
      "|         CARLOS|         Xingtai|\n",
      "|  LUIS FERNANDO|      Chattogram|\n",
      "|        ABIGAIL|           Bijie|\n",
      "|        ANTONIO|        Shangrao|\n",
      "|         JAVIER|           Zunyi|\n",
      "|      ALEJANDRA|           Surat|\n",
      "|          JOSUE|        Surabaya|\n",
      "|   JOSE ANTONIO|       Huanggang|\n",
      "|        JULIETA|         Maoming|\n",
      "|    JOSE MIGUEL|        Nanchong|\n",
      "|      ESMERALDA|         Xinyang|\n",
      "|        VANESSA|          Madrid|\n",
      "|         MIGUEL|         Baghdad|\n",
      "|         EVELYN|          Qujing|\n",
      "|          URIEL|         Jieyang|\n",
      "|      ESTEFANIA|       Singapore|\n",
      "|          AARON|       Prayagraj|\n",
      "|         JIMENA|       Liaocheng|\n",
      "|           JUAN|          Dalian|\n",
      "|         ANDRES|           Yulin|\n",
      "|      ANA PAULA|         Changde|\n",
      "|     JUAN DIEGO|         Qingdao|\n",
      "|         JULIAN|          Douala|\n",
      "+---------------+----------------+\n",
      "only showing top 100 rows\n",
      "\n"
     ]
    }
   ],
   "source": [
    "newdf = df.drop(\"edad\")\n",
    "newdf.show(100)"
   ]
  },
  {
   "cell_type": "markdown",
   "metadata": {},
   "source": [
    "10. Realizar una consulta SQL en el DataFrame para seleccionar personas mayores de 20 años."
   ]
  },
  {
   "cell_type": "code",
   "execution_count": 43,
   "metadata": {},
   "outputs": [
    {
     "name": "stdout",
     "output_type": "stream",
     "text": [
      "+--------------+----+------------+\n",
      "|        nombre|edad|      ciudad|\n",
      "+--------------+----+------------+\n",
      "|      SANTIAGO|  60|       Tokyo|\n",
      "|         SOFIA|  63|       Delhi|\n",
      "|     SEBASTIAN|  26|   Guangzhou|\n",
      "|    MARIA JOSE|  51|      Mumbai|\n",
      "|     VALENTINA|  21|    Shanghai|\n",
      "|        REGINA|  25|   Sao Paulo|\n",
      "|        XIMENA|  37|       Seoul|\n",
      "|        MATIAS|  71| Mexico City|\n",
      "|         DIEGO|  58|       Dhaka|\n",
      "|MARIA FERNANDA|  41|     Beijing|\n",
      "|        DANIEL|  39|     Bangkok|\n",
      "|       VALERIA|  37|    Shenzhen|\n",
      "|        RENATA|  23|      Moscow|\n",
      "|      VICTORIA|  29|Buenos Aires|\n",
      "|     ALEXANDER|  27|       Lagos|\n",
      "|     ALEJANDRO|  43|    Istanbul|\n",
      "|          GAEL|  48|     Karachi|\n",
      "|         JESUS|  61|   Bangalore|\n",
      "|       DANIELA|  54|       Osaka|\n",
      "|      ISABELLA|  49|     Chengdu|\n",
      "+--------------+----+------------+\n",
      "only showing top 20 rows\n",
      "\n"
     ]
    }
   ],
   "source": [
    "# Register DataFrame as Temporary Table\n",
    "df.createOrReplaceTempView(\"temp_table\")\n",
    "\n",
    "# Execute SQL-Like query.\n",
    "spark.sql(\"select * from temp_table where edad > 20\").show()"
   ]
  },
  {
   "cell_type": "markdown",
   "metadata": {},
   "source": [
    "11. Calcular la suma total de todas las edades."
   ]
  },
  {
   "cell_type": "code",
   "execution_count": 44,
   "metadata": {},
   "outputs": [
    {
     "name": "stdout",
     "output_type": "stream",
     "text": [
      "+---------+\n",
      "|sum(edad)|\n",
      "+---------+\n",
      "|    44108|\n",
      "+---------+\n",
      "\n"
     ]
    }
   ],
   "source": [
    "df.agg({'edad':'sum'}).show()"
   ]
  },
  {
   "cell_type": "markdown",
   "metadata": {},
   "source": [
    "12. Calcular la edad mínima y máxima de todas las personas."
   ]
  },
  {
   "cell_type": "code",
   "execution_count": 46,
   "metadata": {},
   "outputs": [
    {
     "name": "stdout",
     "output_type": "stream",
     "text": [
      "+---------+\n",
      "|min(edad)|\n",
      "+---------+\n",
      "|        1|\n",
      "+---------+\n",
      "\n"
     ]
    }
   ],
   "source": [
    "df.agg({'edad':'min'}).show()"
   ]
  },
  {
   "cell_type": "code",
   "execution_count": 47,
   "metadata": {},
   "outputs": [
    {
     "name": "stdout",
     "output_type": "stream",
     "text": [
      "+---------+\n",
      "|max(edad)|\n",
      "+---------+\n",
      "|       72|\n",
      "+---------+\n",
      "\n"
     ]
    }
   ],
   "source": [
    "df.agg({'edad':'max'}).show()"
   ]
  },
  {
   "cell_type": "markdown",
   "metadata": {},
   "source": [
    "13. Filtrar personas cuya ciudad de residencia sea \"Chicago\" y edad sea menor de 30."
   ]
  },
  {
   "cell_type": "code",
   "execution_count": 48,
   "metadata": {},
   "outputs": [
    {
     "name": "stdout",
     "output_type": "stream",
     "text": [
      "+------+----+------+\n",
      "|nombre|edad|ciudad|\n",
      "+------+----+------+\n",
      "+------+----+------+\n",
      "\n"
     ]
    }
   ],
   "source": [
    "# Register DataFrame as Temporary Table\n",
    "df.createOrReplaceTempView(\"temp_table\")\n",
    "\n",
    "# Execute SQL-Like query.\n",
    "spark.sql(\"select * from temp_table where edad < 30 and ciudad='Chicago' \").show()"
   ]
  },
  {
   "cell_type": "markdown",
   "metadata": {},
   "source": [
    "14. Agregar una nueva columna \"EdadDuplicada\" que contenga el doble de la edad."
   ]
  },
  {
   "cell_type": "code",
   "execution_count": 50,
   "metadata": {},
   "outputs": [
    {
     "name": "stdout",
     "output_type": "stream",
     "text": [
      "+--------------+----+------------+-------------+\n",
      "|        nombre|edad|      ciudad|EdadDuplicada|\n",
      "+--------------+----+------------+-------------+\n",
      "|      SANTIAGO|  60|       Tokyo|          120|\n",
      "|         MATEO|  13|     Jakarta|           26|\n",
      "|         SOFIA|  63|       Delhi|          126|\n",
      "|     SEBASTIAN|  26|   Guangzhou|           52|\n",
      "|    MARIA JOSE|  51|      Mumbai|          102|\n",
      "|      LEONARDO|  15|      Manila|           30|\n",
      "|     VALENTINA|  21|    Shanghai|           42|\n",
      "|        REGINA|  25|   Sao Paulo|           50|\n",
      "|        XIMENA|  37|       Seoul|           74|\n",
      "|        MATIAS|  71| Mexico City|          142|\n",
      "|        CAMILA|   4|       Cairo|            8|\n",
      "|      EMILIANO|   4|    New York|            8|\n",
      "|         DIEGO|  58|       Dhaka|          116|\n",
      "|MARIA FERNANDA|  41|     Beijing|           82|\n",
      "|  MIGUEL ANGEL|  18|     Kolkata|           36|\n",
      "|        DANIEL|  39|     Bangkok|           78|\n",
      "|       VALERIA|  37|    Shenzhen|           74|\n",
      "|        RENATA|  23|      Moscow|           46|\n",
      "|      VICTORIA|  29|Buenos Aires|           58|\n",
      "|     ALEXANDER|  27|       Lagos|           54|\n",
      "+--------------+----+------------+-------------+\n",
      "only showing top 20 rows\n",
      "\n"
     ]
    }
   ],
   "source": [
    "df.withColumn('EdadDuplicada', df['edad'] * 2).show()"
   ]
  },
  {
   "cell_type": "markdown",
   "metadata": {},
   "source": [
    "15. Convertir todas las edades en años a meses."
   ]
  },
  {
   "cell_type": "code",
   "execution_count": 51,
   "metadata": {},
   "outputs": [
    {
     "name": "stdout",
     "output_type": "stream",
     "text": [
      "+--------------+----+------------+-----------+\n",
      "|        nombre|edad|      ciudad|EdadEnMeses|\n",
      "+--------------+----+------------+-----------+\n",
      "|      SANTIAGO|  60|       Tokyo|        720|\n",
      "|         MATEO|  13|     Jakarta|        156|\n",
      "|         SOFIA|  63|       Delhi|        756|\n",
      "|     SEBASTIAN|  26|   Guangzhou|        312|\n",
      "|    MARIA JOSE|  51|      Mumbai|        612|\n",
      "|      LEONARDO|  15|      Manila|        180|\n",
      "|     VALENTINA|  21|    Shanghai|        252|\n",
      "|        REGINA|  25|   Sao Paulo|        300|\n",
      "|        XIMENA|  37|       Seoul|        444|\n",
      "|        MATIAS|  71| Mexico City|        852|\n",
      "|        CAMILA|   4|       Cairo|         48|\n",
      "|      EMILIANO|   4|    New York|         48|\n",
      "|         DIEGO|  58|       Dhaka|        696|\n",
      "|MARIA FERNANDA|  41|     Beijing|        492|\n",
      "|  MIGUEL ANGEL|  18|     Kolkata|        216|\n",
      "|        DANIEL|  39|     Bangkok|        468|\n",
      "|       VALERIA|  37|    Shenzhen|        444|\n",
      "|        RENATA|  23|      Moscow|        276|\n",
      "|      VICTORIA|  29|Buenos Aires|        348|\n",
      "|     ALEXANDER|  27|       Lagos|        324|\n",
      "+--------------+----+------------+-----------+\n",
      "only showing top 20 rows\n",
      "\n"
     ]
    }
   ],
   "source": [
    "df.withColumn('EdadEnMeses', df['edad'] * 12).show()"
   ]
  },
  {
   "cell_type": "markdown",
   "metadata": {},
   "source": [
    "16. Contar el número total de personas en el DataFrame."
   ]
  },
  {
   "cell_type": "code",
   "execution_count": 53,
   "metadata": {},
   "outputs": [
    {
     "data": {
      "text/plain": [
       "1207"
      ]
     },
     "execution_count": 53,
     "metadata": {},
     "output_type": "execute_result"
    }
   ],
   "source": [
    "df.count()"
   ]
  },
  {
   "cell_type": "markdown",
   "metadata": {},
   "source": [
    "17. Filtrar personas cuya edad sea un número par."
   ]
  },
  {
   "cell_type": "code",
   "execution_count": 57,
   "metadata": {},
   "outputs": [
    {
     "name": "stdout",
     "output_type": "stream",
     "text": [
      "+------------+----+----------------+\n",
      "|      nombre|edad|          ciudad|\n",
      "+------------+----+----------------+\n",
      "|    SANTIAGO|  60|           Tokyo|\n",
      "|   SEBASTIAN|  26|       Guangzhou|\n",
      "|      CAMILA|   4|           Cairo|\n",
      "|    EMILIANO|   4|        New York|\n",
      "|       DIEGO|  58|           Dhaka|\n",
      "|MIGUEL ANGEL|  18|         Kolkata|\n",
      "|        GAEL|  48|         Karachi|\n",
      "|     NATALIA|   4|Ho Chi Minh City|\n",
      "|     DANIELA|  54|           Osaka|\n",
      "|      ROMINA|   4|          Tehran|\n",
      "|       ANGEL|  50|        Kinshasa|\n",
      "|       DAVID|  26|  Rio de Janeiro|\n",
      "|  LUIS ANGEL|  58|         Chennai|\n",
      "|    FERNANDO|  68|           Xi'an|\n",
      "|    EMMANUEL|  20|          Lahore|\n",
      "|    FERNANDA|  70|         Baoding|\n",
      "|       ALEXA|  26|           Paris|\n",
      "|     RODRIGO|  62|           Linyi|\n",
      "|      ANDREA|  16|       Hyderabad|\n",
      "|     EDUARDO|  18|         Tianjin|\n",
      "+------------+----+----------------+\n",
      "only showing top 20 rows\n",
      "\n"
     ]
    }
   ],
   "source": [
    "df.filter(df['edad'] % 2 == 0).show()"
   ]
  },
  {
   "cell_type": "markdown",
   "metadata": {},
   "source": [
    "18. Calcular la cantidad de personas por rango de edades (0-20, 21-40, 41-60, 61+)."
   ]
  },
  {
   "cell_type": "code",
   "execution_count": 66,
   "metadata": {},
   "outputs": [
    {
     "name": "stdout",
     "output_type": "stream",
     "text": [
      "En rango de 0-20\n"
     ]
    },
    {
     "data": {
      "text/plain": [
       "330"
      ]
     },
     "execution_count": 66,
     "metadata": {},
     "output_type": "execute_result"
    }
   ],
   "source": [
    "print(\"En rango de 0-20\")\n",
    "df.filter(df.edad.between(0,20)).count()"
   ]
  },
  {
   "cell_type": "code",
   "execution_count": 68,
   "metadata": {},
   "outputs": [
    {
     "name": "stdout",
     "output_type": "stream",
     "text": [
      "En rango de 21-40\n"
     ]
    },
    {
     "data": {
      "text/plain": [
       "332"
      ]
     },
     "execution_count": 68,
     "metadata": {},
     "output_type": "execute_result"
    }
   ],
   "source": [
    "print(\"En rango de 21-40\")\n",
    "df.filter(df.edad.between(21,40)).count()"
   ]
  },
  {
   "cell_type": "code",
   "execution_count": 69,
   "metadata": {},
   "outputs": [
    {
     "name": "stdout",
     "output_type": "stream",
     "text": [
      "En rango de 41-60\n"
     ]
    },
    {
     "data": {
      "text/plain": [
       "349"
      ]
     },
     "execution_count": 69,
     "metadata": {},
     "output_type": "execute_result"
    }
   ],
   "source": [
    "print(\"En rango de 41-60\")\n",
    "df.filter(df.edad.between(41,60)).count()"
   ]
  },
  {
   "cell_type": "code",
   "execution_count": 70,
   "metadata": {},
   "outputs": [
    {
     "name": "stdout",
     "output_type": "stream",
     "text": [
      "En rango de 61+\n"
     ]
    },
    {
     "data": {
      "text/plain": [
       "196"
      ]
     },
     "execution_count": 70,
     "metadata": {},
     "output_type": "execute_result"
    }
   ],
   "source": [
    "print(\"En rango de 61+\")\n",
    "df.filter(df.edad > 60).count()"
   ]
  },
  {
   "cell_type": "markdown",
   "metadata": {},
   "source": [
    "19. Contar cuántas personas tienen el mismo nombre."
   ]
  },
  {
   "cell_type": "code",
   "execution_count": 72,
   "metadata": {},
   "outputs": [
    {
     "name": "stdout",
     "output_type": "stream",
     "text": [
      "+------------------+-------+\n",
      "|            nombre|cuantos|\n",
      "+------------------+-------+\n",
      "|        JUAN PABLO|      1|\n",
      "|         JUAN JOSE|      1|\n",
      "|              JADE|      1|\n",
      "|        IAN DANIEL|      1|\n",
      "| SANTIAGO DE JESUS|      1|\n",
      "|             AILYN|      1|\n",
      "|      LUIS ROBERTO|      1|\n",
      "|           EMANUEL|      1|\n",
      "|     ZOE VALENTINA|      1|\n",
      "|       JESUS ANGEL|      1|\n",
      "|             FREDY|      1|\n",
      "|     CARLOS ALEXIS|      1|\n",
      "|             MATEO|      1|\n",
      "|          FERNANDA|      1|\n",
      "|  MARIA DEL CARMEN|      1|\n",
      "|       DYLAN MATEO|      1|\n",
      "|            EVELIN|      1|\n",
      "|SAMANTHA GUADALUPE|      1|\n",
      "|  ALISON GUADALUPE|      1|\n",
      "|        JOSE ANGEL|      1|\n",
      "+------------------+-------+\n",
      "only showing top 20 rows\n",
      "\n"
     ]
    }
   ],
   "source": [
    "df.groupBy('nombre').agg(count('nombre').alias('cuantos')).show()"
   ]
  },
  {
   "cell_type": "markdown",
   "metadata": {},
   "source": [
    "20. Concatenar las columnas \"Nombre\" y \"Ciudad\" en una nueva columna llamada \"InformacionPersonal\"."
   ]
  },
  {
   "cell_type": "code",
   "execution_count": 80,
   "metadata": {},
   "outputs": [
    {
     "name": "stdout",
     "output_type": "stream",
     "text": [
      "+--------------+----+------------+--------------------+\n",
      "|        nombre|edad|      ciudad| InformacionPersonal|\n",
      "+--------------+----+------------+--------------------+\n",
      "|      SANTIAGO|  60|       Tokyo|      SANTIAGO Tokyo|\n",
      "|         MATEO|  13|     Jakarta|       MATEO Jakarta|\n",
      "|         SOFIA|  63|       Delhi|         SOFIA Delhi|\n",
      "|     SEBASTIAN|  26|   Guangzhou| SEBASTIAN Guangzhou|\n",
      "|    MARIA JOSE|  51|      Mumbai|   MARIA JOSE Mumbai|\n",
      "|      LEONARDO|  15|      Manila|     LEONARDO Manila|\n",
      "|     VALENTINA|  21|    Shanghai|  VALENTINA Shanghai|\n",
      "|        REGINA|  25|   Sao Paulo|    REGINA Sao Paulo|\n",
      "|        XIMENA|  37|       Seoul|        XIMENA Seoul|\n",
      "|        MATIAS|  71| Mexico City|  MATIAS Mexico City|\n",
      "|        CAMILA|   4|       Cairo|        CAMILA Cairo|\n",
      "|      EMILIANO|   4|    New York|   EMILIANO New York|\n",
      "|         DIEGO|  58|       Dhaka|         DIEGO Dhaka|\n",
      "|MARIA FERNANDA|  41|     Beijing|MARIA FERNANDA Be...|\n",
      "|  MIGUEL ANGEL|  18|     Kolkata|MIGUEL ANGEL Kolkata|\n",
      "|        DANIEL|  39|     Bangkok|      DANIEL Bangkok|\n",
      "|       VALERIA|  37|    Shenzhen|    VALERIA Shenzhen|\n",
      "|        RENATA|  23|      Moscow|       RENATA Moscow|\n",
      "|      VICTORIA|  29|Buenos Aires|VICTORIA Buenos A...|\n",
      "|     ALEXANDER|  27|       Lagos|     ALEXANDER Lagos|\n",
      "+--------------+----+------------+--------------------+\n",
      "only showing top 20 rows\n",
      "\n"
     ]
    }
   ],
   "source": [
    "df.withColumn(\"InformacionPersonal\", concat(col('nombre'),lit(\" \"),col('ciudad'))).show()"
   ]
  }
 ],
 "metadata": {
  "kernelspec": {
   "display_name": "Python 3",
   "language": "python",
   "name": "python3"
  },
  "language_info": {
   "codemirror_mode": {
    "name": "ipython",
    "version": 3
   },
   "file_extension": ".py",
   "mimetype": "text/x-python",
   "name": "python",
   "nbconvert_exporter": "python",
   "pygments_lexer": "ipython3",
   "version": "3.11.4"
  },
  "orig_nbformat": 4
 },
 "nbformat": 4,
 "nbformat_minor": 2
}
